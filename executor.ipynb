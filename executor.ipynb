{
 "cells": [
  {
   "cell_type": "code",
   "execution_count": 1,
   "metadata": {},
   "outputs": [
    {
     "name": "stdout",
     "output_type": "stream",
     "text": [
      "Defaulting to user installation because normal site-packages is not writeable\n",
      "Requirement already satisfied: pytube in /home/pietro/.local/lib/python3.11/site-packages (12.1.3)\n",
      "Defaulting to user installation because normal site-packages is not writeable\n",
      "Requirement already satisfied: pysimplegui in /home/pietro/.local/lib/python3.11/site-packages (4.60.4)\n",
      "Defaulting to user installation because normal site-packages is not writeable\n",
      "Requirement already satisfied: pillow in /home/pietro/.local/lib/python3.11/site-packages (9.5.0)\n"
     ]
    }
   ],
   "source": [
    "!pip install pytube\n",
    "!pip install pysimplegui\n",
    "!pip install pillow"
   ]
  },
  {
   "cell_type": "code",
   "execution_count": 2,
   "metadata": {},
   "outputs": [
    {
     "ename": "NameError",
     "evalue": "name 'threads' is not defined",
     "output_type": "error",
     "traceback": [
      "\u001b[0;31m---------------------------------------------------------------------------\u001b[0m",
      "\u001b[0;31mNameError\u001b[0m                                 Traceback (most recent call last)",
      "Cell \u001b[0;32mIn[2], line 1\u001b[0m\n\u001b[0;32m----> 1\u001b[0m \u001b[39mfrom\u001b[39;00m \u001b[39myouMusicDownloader\u001b[39;00m \u001b[39mimport\u001b[39;00m main\n\u001b[1;32m      2\u001b[0m main()\n",
      "File \u001b[0;32m~/youMusicDownloader/youMusicDownloader.py:72\u001b[0m\n\u001b[1;32m     68\u001b[0m             window \u001b[39m=\u001b[39m make_window(outdir)\n\u001b[1;32m     69\u001b[0m     window\u001b[39m.\u001b[39mclose()\n\u001b[0;32m---> 72\u001b[0m main()\n",
      "File \u001b[0;32m~/youMusicDownloader/youMusicDownloader.py:61\u001b[0m, in \u001b[0;36mmain\u001b[0;34m()\u001b[0m\n\u001b[1;32m     59\u001b[0m         download_playlists(values[\u001b[39m'\u001b[39m\u001b[39m-PLAYLISTURL-\u001b[39m\u001b[39m'\u001b[39m]\u001b[39m.\u001b[39msplit(\u001b[39m'\u001b[39m\u001b[39m, \u001b[39m\u001b[39m'\u001b[39m), progress_bar, outdir);\n\u001b[1;32m     60\u001b[0m     \u001b[39melse\u001b[39;00m:\n\u001b[0;32m---> 61\u001b[0m         download_urls(values[\u001b[39m'\u001b[39;49m\u001b[39m-SONGS-\u001b[39;49m\u001b[39m'\u001b[39;49m]\u001b[39m.\u001b[39;49msplit(\u001b[39m\"\u001b[39;49m\u001b[39m, \u001b[39;49m\u001b[39m\"\u001b[39;49m), progress_bar, outdir);\n\u001b[1;32m     62\u001b[0m     progress_bar\u001b[39m.\u001b[39mupdate(visible\u001b[39m=\u001b[39m\u001b[39mFalse\u001b[39;00m)\n\u001b[1;32m     64\u001b[0m \u001b[39mif\u001b[39;00m values[\u001b[39m'\u001b[39m\u001b[39m-THEME-\u001b[39m\u001b[39m'\u001b[39m] \u001b[39mis\u001b[39;00m \u001b[39mnot\u001b[39;00m sg\u001b[39m.\u001b[39mtheme():\n",
      "File \u001b[0;32m~/youMusicDownloader/youMusicDownloader.py:24\u001b[0m, in \u001b[0;36mdownload_urls\u001b[0;34m(songs, bar, outdir)\u001b[0m\n\u001b[1;32m     22\u001b[0m bar\u001b[39m.\u001b[39mupdate_bar(\u001b[39mround\u001b[39m((cnt\u001b[39m/\u001b[39m\u001b[39mlen\u001b[39m(songs)) \u001b[39m*\u001b[39m \u001b[39m100\u001b[39m, \u001b[39m2\u001b[39m))\n\u001b[1;32m     23\u001b[0m t \u001b[39m=\u001b[39m threading\u001b[39m.\u001b[39mThread(target\u001b[39m=\u001b[39mdownload_thread, args\u001b[39m=\u001b[39m(outdir, sound, cnt\u001b[39m-\u001b[39m\u001b[39m1\u001b[39m, ), daemon\u001b[39m=\u001b[39m\u001b[39mTrue\u001b[39;00m)\n\u001b[0;32m---> 24\u001b[0m threads\u001b[39m.\u001b[39mappend(t)\n\u001b[1;32m     25\u001b[0m t\u001b[39m.\u001b[39mstart()        \n\u001b[1;32m     26\u001b[0m sg\u001b[39m.\u001b[39mpopup_timed(\u001b[39m'\u001b[39m\u001b[39myouMusicDownloader progress \u001b[39m\u001b[39m{}\u001b[39;00m\u001b[39m%\u001b[39m\u001b[39m\\n\u001b[39;00m\u001b[39msong number \u001b[39m\u001b[39m{}\u001b[39;00m\u001b[39m'\u001b[39m\u001b[39m.\u001b[39mformat(\u001b[39mround\u001b[39m((cnt\u001b[39m/\u001b[39m\u001b[39mlen\u001b[39m(songs)) \u001b[39m*\u001b[39m \u001b[39m100\u001b[39m, \u001b[39m2\u001b[39m), cnt), relative_location\u001b[39m=\u001b[39m(\u001b[39m1000\u001b[39m, \u001b[39m500\u001b[39m), title\u001b[39m=\u001b[39m\u001b[39m'\u001b[39m\u001b[39mProgress\u001b[39m\u001b[39m'\u001b[39m)\n",
      "\u001b[0;31mNameError\u001b[0m: name 'threads' is not defined"
     ]
    }
   ],
   "source": [
    "from youMusicDownloader import main\n",
    "main()"
   ]
  }
 ],
 "metadata": {
  "kernelspec": {
   "display_name": "Python 3",
   "language": "python",
   "name": "python3"
  },
  "language_info": {
   "codemirror_mode": {
    "name": "ipython",
    "version": 3
   },
   "file_extension": ".py",
   "mimetype": "text/x-python",
   "name": "python",
   "nbconvert_exporter": "python",
   "pygments_lexer": "ipython3",
   "version": "3.11.2"
  },
  "orig_nbformat": 4
 },
 "nbformat": 4,
 "nbformat_minor": 2
}
